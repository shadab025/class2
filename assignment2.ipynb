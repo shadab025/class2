{
 "cells": [
  {
   "cell_type": "code",
   "execution_count": 16,
   "id": "f2a0638b-38c0-4c0e-9030-6d022499f205",
   "metadata": {},
   "outputs": [],
   "source": [
    "first_name =\"mohammad \""
   ]
  },
  {
   "cell_type": "code",
   "execution_count": 17,
   "id": "ffb4aae0-c364-43bb-9f92-51a6c5f55a7a",
   "metadata": {},
   "outputs": [],
   "source": [
    "last_name =\"shadab\""
   ]
  },
  {
   "cell_type": "code",
   "execution_count": 18,
   "id": "cdbd2959-cc02-4812-a94b-6c5ed499def3",
   "metadata": {},
   "outputs": [
    {
     "name": "stdout",
     "output_type": "stream",
     "text": [
      "mohammad shadab\n"
     ]
    }
   ],
   "source": [
    "print(first_name + last_name)"
   ]
  },
  {
   "cell_type": "code",
   "execution_count": 25,
   "id": "91240a73-8609-4bf8-884e-0ffc22e3e051",
   "metadata": {},
   "outputs": [
    {
     "name": "stdout",
     "output_type": "stream",
     "text": [
      "mohammad\n"
     ]
    }
   ],
   "source": [
    "a = \"mohammad shadab\"\n",
    "print (a[0:8])"
   ]
  },
  {
   "cell_type": "code",
   "execution_count": 26,
   "id": "45530e6b-ea5a-495a-9cf6-995bff99f9ac",
   "metadata": {},
   "outputs": [
    {
     "data": {
      "text/plain": [
       "15"
      ]
     },
     "execution_count": 26,
     "metadata": {},
     "output_type": "execute_result"
    }
   ],
   "source": [
    "len(a)"
   ]
  },
  {
   "cell_type": "code",
   "execution_count": 32,
   "id": "a6d15bc8-dc8d-4e56-9e8a-2881e4c3a481",
   "metadata": {},
   "outputs": [
    {
     "data": {
      "text/plain": [
       "list"
      ]
     },
     "execution_count": 32,
     "metadata": {},
     "output_type": "execute_result"
    }
   ],
   "source": [
    "s =[\"delhi,bareilly,mumbai\"]\n",
    "type(s)"
   ]
  },
  {
   "cell_type": "code",
   "execution_count": 34,
   "id": "3907fd88-6d07-4502-810f-0b1a2f204ec4",
   "metadata": {},
   "outputs": [
    {
     "name": "stdout",
     "output_type": "stream",
     "text": [
      "delhi,bareilly,mumbai\n"
     ]
    }
   ],
   "source": [
    "for i in s :\n",
    "    print(i)"
   ]
  },
  {
   "cell_type": "code",
   "execution_count": null,
   "id": "70e041a6-f91e-442d-bfd9-037169d4c8f2",
   "metadata": {},
   "outputs": [],
   "source": []
  }
 ],
 "metadata": {
  "kernelspec": {
   "display_name": "Python 3 (ipykernel)",
   "language": "python",
   "name": "python3"
  },
  "language_info": {
   "codemirror_mode": {
    "name": "ipython",
    "version": 3
   },
   "file_extension": ".py",
   "mimetype": "text/x-python",
   "name": "python",
   "nbconvert_exporter": "python",
   "pygments_lexer": "ipython3",
   "version": "3.12.7"
  }
 },
 "nbformat": 4,
 "nbformat_minor": 5
}
